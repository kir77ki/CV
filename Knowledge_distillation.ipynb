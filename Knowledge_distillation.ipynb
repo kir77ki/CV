{
 "cells": [
  {
   "cell_type": "markdown",
   "metadata": {
    "id": "fXad1svpSk8f"
   },
   "source": [
    "# Knowledge distillation\n",
    "Suppose that we have a large network (*teacher network*) or an ensemble of networks which has a good accuracy but doesn't fit into memory/runtime requirements. Instead of training a smaller network (*student network*) directly on the original dataset, we can train this network to predict outputs of teacher networks. It turns out that the perfomance could be even better! This approach doesn't help with training speed, but can be quite beneficial when we'd like to reduce the model size for low-memory devices.\n",
    "\n",
    "* https://www.ttic.edu/dl/dark14.pdf\n",
    "* [Distilling the Knowledge in a Neural Network](https://arxiv.org/abs/1503.02531)\n",
    "* https://medium.com/neural-machines/knowledge-distillation-dc241d7c2322\n",
    "\n",
    "Even the completely different ([article](https://arxiv.org/abs/1711.10433)) architecture can be used in a student model, e.g. you can approximate an autoregressive model (WaveNet) by a non-autoregressive one."
   ]
  },
  {
   "cell_type": "markdown",
   "metadata": {
    "id": "XSHBKQi_bl5N"
   },
   "source": [
    "Подготавливаем данные"
   ]
  },
  {
   "cell_type": "code",
   "execution_count": null,
   "metadata": {
    "colab": {
     "base_uri": "https://localhost:8080/"
    },
    "id": "h5JuVR_hbr3i",
    "outputId": "2183f801-4b06-47cb-ee84-2d03e72902bd"
   },
   "outputs": [
    {
     "name": "stdout",
     "output_type": "stream",
     "text": [
      "--2023-10-11 09:36:20--  https://raw.githubusercontent.com/yandexdataschool/deep_vision_and_graphics/fall21/homework01/tiny_img.py\n",
      "Resolving raw.githubusercontent.com (raw.githubusercontent.com)... 185.199.110.133, 185.199.109.133, 185.199.111.133, ...\n",
      "Connecting to raw.githubusercontent.com (raw.githubusercontent.com)|185.199.110.133|:443... connected.\n",
      "HTTP request sent, awaiting response... 200 OK\n",
      "Length: 813 [text/plain]\n",
      "Saving to: ‘tiny_img.py’\n",
      "\n",
      "\r",
      "tiny_img.py           0%[                    ]       0  --.-KB/s               \r",
      "tiny_img.py         100%[===================>]     813  --.-KB/s    in 0s      \n",
      "\n",
      "2023-10-11 09:36:21 (58.7 MB/s) - ‘tiny_img.py’ saved [813/813]\n",
      "\n",
      "--2023-10-11 09:36:21--  https://raw.githubusercontent.com/yandexdataschool/deep_vision_and_graphics/fall21/homework01/tiny_img_dataset.py\n",
      "Resolving raw.githubusercontent.com (raw.githubusercontent.com)... 185.199.108.133, 185.199.109.133, 185.199.110.133, ...\n",
      "Connecting to raw.githubusercontent.com (raw.githubusercontent.com)|185.199.108.133|:443... connected.\n",
      "HTTP request sent, awaiting response... 200 OK\n",
      "Length: 1555 (1.5K) [text/plain]\n",
      "Saving to: ‘tiny_img_dataset.py’\n",
      "\n",
      "tiny_img_dataset.py 100%[===================>]   1.52K  --.-KB/s    in 0s      \n",
      "\n",
      "2023-10-11 09:36:21 (23.0 MB/s) - ‘tiny_img_dataset.py’ saved [1555/1555]\n",
      "\n"
     ]
    }
   ],
   "source": [
    "!wget --no-check-certificate 'https://raw.githubusercontent.com/yandexdataschool/deep_vision_and_graphics/fall21/homework01/tiny_img.py' -O tiny_img.py\n",
    "!wget --no-check-certificate 'https://raw.githubusercontent.com/yandexdataschool/deep_vision_and_graphics/fall21/homework01/tiny_img_dataset.py' -O tiny_img_dataset.py"
   ]
  },
  {
   "cell_type": "code",
   "execution_count": null,
   "metadata": {
    "colab": {
     "base_uri": "https://localhost:8080/"
    },
    "id": "dpj5Qn1PbdX0",
    "outputId": "bd190dea-1dbd-422a-8bfe-9f31d16b7713"
   },
   "outputs": [
    {
     "name": "stdout",
     "output_type": "stream",
     "text": [
      "Dataset was downloaded to './tiny-imagenet-200.zip'\n",
      "Extract downloaded dataset to '.'\n"
     ]
    }
   ],
   "source": [
    "from tiny_img import download_tinyImg200\n",
    "data_path = '.'\n",
    "download_tinyImg200(data_path)"
   ]
  },
  {
   "cell_type": "code",
   "execution_count": null,
   "metadata": {
    "id": "aTAAe-SDbzir"
   },
   "outputs": [],
   "source": [
    "import numpy as np\n",
    "import tqdm as tqdm\n",
    "import cv2"
   ]
  },
  {
   "cell_type": "code",
   "execution_count": null,
   "metadata": {
    "colab": {
     "base_uri": "https://localhost:8080/"
    },
    "id": "ohoOBRHdbvTb",
    "outputId": "587f760f-f591-46fb-bcf2-2e5fd6eeb297"
   },
   "outputs": [
    {
     "name": "stdout",
     "output_type": "stream",
     "text": [
      "Our main computing device is 'cuda:0'\n"
     ]
    }
   ],
   "source": [
    "import torch\n",
    "import torchvision\n",
    "from torchvision import transforms\n",
    "import tqdm\n",
    "\n",
    "def get_computing_device():\n",
    "    if torch.cuda.is_available():\n",
    "        device = torch.device('cuda:0')\n",
    "    else:\n",
    "        device = torch.device('cpu')\n",
    "    return device\n",
    "\n",
    "device = get_computing_device()\n",
    "print(f\"Our main computing device is '{device}'\")"
   ]
  },
  {
   "cell_type": "code",
   "execution_count": null,
   "metadata": {
    "colab": {
     "base_uri": "https://localhost:8080/"
    },
    "id": "FoeLkxvIbvV8",
    "outputId": "15cb605a-dbdd-422a-e068-c3a8e33f45f6"
   },
   "outputs": [
    {
     "name": "stderr",
     "output_type": "stream",
     "text": [
      "tiny-imagenet-200/train: 100%|██████████| 200/200 [00:59<00:00,  3.34it/s]\n"
     ]
    }
   ],
   "source": [
    "train_trainsforms = transforms.Compose(\n",
    "    [transforms.RandomHorizontalFlip(),\n",
    "     transforms.ToTensor(),\n",
    "     transforms.RandomRotation(5),\n",
    "     transforms.ColorJitter(hue=.05, saturation=.05)]\n",
    ")\n",
    "\n",
    "import tiny_img_dataset\n",
    "train_dataset = tiny_img_dataset.TinyImagenetRAM('tiny-imagenet-200/train', transform=train_trainsforms)"
   ]
  },
  {
   "cell_type": "code",
   "execution_count": null,
   "metadata": {
    "id": "vwN8bcczbvYR"
   },
   "outputs": [],
   "source": [
    "from torch.utils.data import Dataset\n",
    "import os\n",
    "from PIL import Image\n",
    "\n",
    "class TinyImagenetValDataset(Dataset):\n",
    "    def __init__(self, root, transform=transforms.ToTensor()):\n",
    "        super().__init__()\n",
    "\n",
    "        self.root = root\n",
    "        with open(os.path.join(root, 'val_annotations.txt')) as f:\n",
    "            annotations = []\n",
    "            for line in f:\n",
    "                img_name, class_label = line.split('\\t')[:2]\n",
    "                annotations.append((img_name, class_label))\n",
    "\n",
    "        self.classes = list(sorted(np.unique(np.array([item[1] for item in annotations]))))\n",
    "\n",
    "        assert len(self.classes) == 200, len(self.classes)\n",
    "        assert all(self.classes[i] < self.classes[i+1] for i in range(len(self.classes)-1)), 'classes should be ordered'\n",
    "        assert all(isinstance(elem, type(annotations[0][1])) for elem in self.classes), 'your just need to reuse class_labels'\n",
    "\n",
    "        self.class_to_idx = {item: index for index, item in enumerate(self.classes)}\n",
    "\n",
    "        self.transform = transform\n",
    "\n",
    "        self.images, self.targets = [], []\n",
    "        for img_name, class_name in tqdm.tqdm(annotations, desc=root):\n",
    "            img_name = os.path.join(root, 'images', img_name)\n",
    "            image = tiny_img_dataset.read_rgb_image(img_name)\n",
    "\n",
    "            assert image.shape == (64, 64, 3), image.shape\n",
    "            self.images.append(Image.fromarray(image))\n",
    "            self.targets.append(self.class_to_idx[class_name])\n",
    "\n",
    "    def __len__(self):\n",
    "        return len(self.images)\n",
    "\n",
    "    def __getitem__(self, index):\n",
    "        image = self.transform(self.images[index])\n",
    "        target = self.targets[index]\n",
    "        return image, target"
   ]
  },
  {
   "cell_type": "code",
   "execution_count": null,
   "metadata": {
    "colab": {
     "base_uri": "https://localhost:8080/"
    },
    "id": "MwKRt_KUbval",
    "outputId": "7e1204fb-67c9-445c-ebb7-539a18e133f8"
   },
   "outputs": [
    {
     "name": "stderr",
     "output_type": "stream",
     "text": [
      "tiny-imagenet-200/val: 100%|██████████| 10000/10000 [00:05<00:00, 1929.07it/s]\n"
     ]
    }
   ],
   "source": [
    "val_dataset = TinyImagenetValDataset('tiny-imagenet-200/val', transform=transforms.ToTensor())\n",
    "\n",
    "assert all(train_dataset.classes[i] == val_dataset.classes[i] for i in range(200)), \\\n",
    "    'class order in train and val datasets should be the same'\n",
    "assert all(train_dataset.class_to_idx[elem] == val_dataset.class_to_idx[elem] for elem in train_dataset.classes), \\\n",
    "    'class indices should be the same'"
   ]
  },
  {
   "cell_type": "code",
   "execution_count": null,
   "metadata": {
    "colab": {
     "base_uri": "https://localhost:8080/"
    },
    "id": "w_GV-EBkcMZo",
    "outputId": "a77abeeb-27f4-45c6-d9da-a56b5e38c51a"
   },
   "outputs": [
    {
     "name": "stderr",
     "output_type": "stream",
     "text": [
      "/usr/local/lib/python3.10/dist-packages/torch/utils/data/dataloader.py:560: UserWarning: This DataLoader will create 12 worker processes in total. Our suggested max number of worker in current system is 2, which is smaller than what this DataLoader is going to create. Please be aware that excessive worker creation might get DataLoader running slow or even freeze, lower the worker number to avoid potential slowness/freeze if necessary.\n",
      "  warnings.warn(_create_warning_msg(\n"
     ]
    }
   ],
   "source": [
    "batch_size = 64\n",
    "train_batch_gen = torch.utils.data.DataLoader(train_dataset,\n",
    "                                              batch_size=batch_size,\n",
    "                                              shuffle=True,\n",
    "                                              num_workers=12)"
   ]
  },
  {
   "cell_type": "code",
   "execution_count": null,
   "metadata": {
    "id": "rCW27TD2cMbp"
   },
   "outputs": [],
   "source": [
    "val_batch_gen = torch.utils.data.DataLoader(val_dataset,\n",
    "                                            batch_size=batch_size,\n",
    "                                            shuffle=False,\n",
    "                                            num_workers=12)"
   ]
  },
  {
   "cell_type": "markdown",
   "metadata": {
    "id": "pyhdNUVcbdXz"
   },
   "source": [
    "## 1. Teacher network\n",
    "Train good enough (teacher) network"
   ]
  },
  {
   "cell_type": "code",
   "execution_count": null,
   "metadata": {
    "id": "RsuyhJ2EcQ8E"
   },
   "outputs": [],
   "source": [
    "import torch, torch.nn as nn\n",
    "import torch.nn.functional as F\n",
    "from torch.autograd import Variable"
   ]
  },
  {
   "cell_type": "code",
   "execution_count": null,
   "metadata": {
    "id": "4Y25WYrjcaPl"
   },
   "outputs": [],
   "source": [
    "def compute_loss(predictions, gt):\n",
    "    return F.cross_entropy(predictions, gt).mean()"
   ]
  },
  {
   "cell_type": "code",
   "execution_count": null,
   "metadata": {
    "id": "thOTeZ3ccWnD"
   },
   "outputs": [],
   "source": [
    "class GlobalAveragePool(nn.Module):\n",
    "    def __init__(self, dim):\n",
    "        super().__init__()\n",
    "        self.dim = dim\n",
    "    def forward(self, x):\n",
    "        return torch.mean(x, dim=self.dim)\n",
    "\n",
    "class ConvBNRelu(nn.Module):\n",
    "    def __init__(self, in_channels, out_channels, kernel_size, stride=1, padding='same'):\n",
    "        super().__init__()\n",
    "\n",
    "        self.conv = nn.Conv2d(in_channels, out_channels, kernel_size, stride, padding)\n",
    "        self.bn = nn.BatchNorm2d(out_channels)\n",
    "        self.relu = nn.ReLU()\n",
    "\n",
    "    def forward(self, x):\n",
    "        x = self.relu(self.bn(self.conv(x)))\n",
    "        return x"
   ]
  },
  {
   "cell_type": "code",
   "execution_count": null,
   "metadata": {
    "id": "2hipqTJVcerQ"
   },
   "outputs": [],
   "source": [
    "class ResNetBlock2(nn.Module):\n",
    "    \"\"\"\n",
    "    Module implements the following function:\n",
    "\n",
    "    output = relu(F(input) + Residual(input)), where:\n",
    "        Residual(x) = Conv + bn + relu + conv + bn\n",
    "        F(x) = x                                        , if in_channels == out_channels and stride == 1\n",
    "             = Conv1x1(in_channel, out_channel, stride) , otherwise\n",
    "    \"\"\"\n",
    "    def __init__(self, in_channels, out_channels, kernel_size=3, stride=1, padding='same'):\n",
    "        super().__init__()\n",
    "        self.conv1 = nn.Conv2d(in_channels, out_channels, kernel_size, stride, padding)\n",
    "        self.bn1 = nn.BatchNorm2d(out_channels)\n",
    "        self.relu1 = nn.ReLU()\n",
    "\n",
    "        self.conv2 = nn.Conv2d(out_channels, out_channels, kernel_size, stride, padding)\n",
    "        self.bn2 = nn.BatchNorm2d(out_channels)\n",
    "\n",
    "        self.relu2 = nn.ReLU()\n",
    "\n",
    "        self.conv3 = None\n",
    "        if in_channels != out_channels or stride != 1:\n",
    "            self.conv3 = nn.Conv2d(in_channels, out_channels, 1, stride, padding=0)\n",
    "\n",
    "    def forward(self, x):\n",
    "        residual = self.bn2(self.conv2(self.relu1(self.bn1(self.conv1(x)))))\n",
    "\n",
    "        if self.conv3 is not None:\n",
    "            x = self.conv3(x)\n",
    "\n",
    "        result = self.relu2(residual + x)\n",
    "        return result\n",
    "\n",
    "def create_resnet_like_network():\n",
    "    model = nn.Sequential()\n",
    "\n",
    "    config = [[32, 32], [64, 64], [128, 128]]\n",
    "    model.add_module('init_conv', ConvBNRelu(3, 32, kernel_size=7, stride=2, padding=3))\n",
    "\n",
    "    in_channels = 32\n",
    "    for i in range(len(config)):\n",
    "        for j in range(len(config[i])):\n",
    "            out_channels = config[i][j]\n",
    "            stride = 2 if i != 0 and j == 0 else 1\n",
    "            model.add_module('ResNetBlock' + str(2 * i + j), ResNetBlock2(in_channels, out_channels, 3))\n",
    "\n",
    "            in_channels = out_channels\n",
    "    model.add_module('pool', GlobalAveragePool((2,3)))\n",
    "    model.add_module('logits', nn.Linear(out_channels, 200))\n",
    "    return model"
   ]
  },
  {
   "cell_type": "code",
   "execution_count": null,
   "metadata": {
    "id": "RPd8Yy7Hcb4D"
   },
   "outputs": [],
   "source": [
    "model = create_resnet_like_network()\n",
    "model = model.to(device)\n",
    "opt = torch.optim.Adam(model.parameters(), lr = 0.001)\n",
    "scheduler = torch.optim.lr_scheduler.ReduceLROnPlateau(opt, mode='min', factor=0.25, patience=4, threshold=0.001, verbose=True)"
   ]
  },
  {
   "cell_type": "code",
   "execution_count": null,
   "metadata": {
    "id": "bUSTB9tZC259"
   },
   "outputs": [],
   "source": [
    "# Counting how many parameters does our model have\n",
    "def model_num_params(model):\n",
    "    sum_params = 0\n",
    "    for param in model.named_parameters():\n",
    "        num_params = np.prod(param[1].shape)\n",
    "        print('{: <19} ~  {: <7} params'.format(param[0], num_params))\n",
    "        sum_params += num_params\n",
    "    print(f'\\nIn total: {sum_params} params')\n",
    "    return sum_params"
   ]
  },
  {
   "cell_type": "code",
   "execution_count": null,
   "metadata": {
    "colab": {
     "base_uri": "https://localhost:8080/"
    },
    "id": "XQAoZqNHcb6G",
    "outputId": "aa6b8846-e03f-423e-de1c-dc816170acd8"
   },
   "outputs": [
    {
     "name": "stdout",
     "output_type": "stream",
     "text": [
      "init_conv.conv.weight ~  4704    params\n",
      "init_conv.conv.bias ~  32      params\n",
      "init_conv.bn.weight ~  32      params\n",
      "init_conv.bn.bias   ~  32      params\n",
      "ResNetBlock0.conv1.weight ~  9216    params\n",
      "ResNetBlock0.conv1.bias ~  32      params\n",
      "ResNetBlock0.bn1.weight ~  32      params\n",
      "ResNetBlock0.bn1.bias ~  32      params\n",
      "ResNetBlock0.conv2.weight ~  9216    params\n",
      "ResNetBlock0.conv2.bias ~  32      params\n",
      "ResNetBlock0.bn2.weight ~  32      params\n",
      "ResNetBlock0.bn2.bias ~  32      params\n",
      "ResNetBlock1.conv1.weight ~  9216    params\n",
      "ResNetBlock1.conv1.bias ~  32      params\n",
      "ResNetBlock1.bn1.weight ~  32      params\n",
      "ResNetBlock1.bn1.bias ~  32      params\n",
      "ResNetBlock1.conv2.weight ~  9216    params\n",
      "ResNetBlock1.conv2.bias ~  32      params\n",
      "ResNetBlock1.bn2.weight ~  32      params\n",
      "ResNetBlock1.bn2.bias ~  32      params\n",
      "ResNetBlock2.conv1.weight ~  18432   params\n",
      "ResNetBlock2.conv1.bias ~  64      params\n",
      "ResNetBlock2.bn1.weight ~  64      params\n",
      "ResNetBlock2.bn1.bias ~  64      params\n",
      "ResNetBlock2.conv2.weight ~  36864   params\n",
      "ResNetBlock2.conv2.bias ~  64      params\n",
      "ResNetBlock2.bn2.weight ~  64      params\n",
      "ResNetBlock2.bn2.bias ~  64      params\n",
      "ResNetBlock2.conv3.weight ~  2048    params\n",
      "ResNetBlock2.conv3.bias ~  64      params\n",
      "ResNetBlock3.conv1.weight ~  36864   params\n",
      "ResNetBlock3.conv1.bias ~  64      params\n",
      "ResNetBlock3.bn1.weight ~  64      params\n",
      "ResNetBlock3.bn1.bias ~  64      params\n",
      "ResNetBlock3.conv2.weight ~  36864   params\n",
      "ResNetBlock3.conv2.bias ~  64      params\n",
      "ResNetBlock3.bn2.weight ~  64      params\n",
      "ResNetBlock3.bn2.bias ~  64      params\n",
      "ResNetBlock4.conv1.weight ~  73728   params\n",
      "ResNetBlock4.conv1.bias ~  128     params\n",
      "ResNetBlock4.bn1.weight ~  128     params\n",
      "ResNetBlock4.bn1.bias ~  128     params\n",
      "ResNetBlock4.conv2.weight ~  147456  params\n",
      "ResNetBlock4.conv2.bias ~  128     params\n",
      "ResNetBlock4.bn2.weight ~  128     params\n",
      "ResNetBlock4.bn2.bias ~  128     params\n",
      "ResNetBlock4.conv3.weight ~  8192    params\n",
      "ResNetBlock4.conv3.bias ~  128     params\n",
      "ResNetBlock5.conv1.weight ~  147456  params\n",
      "ResNetBlock5.conv1.bias ~  128     params\n",
      "ResNetBlock5.bn1.weight ~  128     params\n",
      "ResNetBlock5.bn1.bias ~  128     params\n",
      "ResNetBlock5.conv2.weight ~  147456  params\n",
      "ResNetBlock5.conv2.bias ~  128     params\n",
      "ResNetBlock5.bn2.weight ~  128     params\n",
      "ResNetBlock5.bn2.bias ~  128     params\n",
      "logits.weight       ~  25600   params\n",
      "logits.bias         ~  200     params\n",
      "\n",
      "In total: 725704 params\n"
     ]
    }
   ],
   "source": [
    "sum_params = model_num_params(model)"
   ]
  },
  {
   "cell_type": "markdown",
   "metadata": {
    "id": "lhq6zzfcdeGB"
   },
   "source": [
    "Train one epoch"
   ]
  },
  {
   "cell_type": "code",
   "execution_count": null,
   "metadata": {
    "id": "T4zxdDqedhfJ"
   },
   "outputs": [],
   "source": [
    "import torch.nn.functional as F\n",
    "from tqdm.notebook import tqdm\n",
    "\n",
    "def train(model, optimizer, loader, criterion):\n",
    "    model.train()\n",
    "    losses_tr = []\n",
    "    for images, targets in tqdm(loader):\n",
    "        images = images.to(device)\n",
    "        targets = targets.to(device)\n",
    "\n",
    "        optimizer.zero_grad()\n",
    "        out = model(images)\n",
    "        loss = criterion(out, targets)\n",
    "\n",
    "        loss.backward()\n",
    "        optimizer.step()\n",
    "        losses_tr.append(loss.item())\n",
    "\n",
    "    return model, optimizer, np.mean(losses_tr)\n",
    "\n",
    "def val(model, loader, criterion):\n",
    "    model.eval()\n",
    "    losses_val = []\n",
    "    with torch.no_grad():\n",
    "        for images, targets in tqdm(loader):\n",
    "            images = images.to(device)\n",
    "            targets = targets.to(device)\n",
    "            out = model(images)\n",
    "            loss = criterion(out, targets)\n",
    "\n",
    "            losses_val.append(loss.item())\n",
    "\n",
    "    return np.mean(losses_val)"
   ]
  },
  {
   "cell_type": "markdown",
   "metadata": {
    "id": "-m4fdRnodrgt"
   },
   "source": [
    "Learning loop"
   ]
  },
  {
   "cell_type": "code",
   "execution_count": null,
   "metadata": {
    "id": "jWLNERLPjhEW"
   },
   "outputs": [],
   "source": [
    "def eval_model(model, data_generator):\n",
    "    accuracy = []\n",
    "    model.train(False) # disable dropout / use averages for batch_norm\n",
    "    with torch.no_grad():\n",
    "        for X_batch, y_batch in data_generator:\n",
    "            X_batch = X_batch.to(device)\n",
    "            logits = model(X_batch)\n",
    "            y_pred = logits.max(1)[1].data\n",
    "            accuracy.append(np.mean((y_batch.cpu() == y_pred.cpu()).numpy()))\n",
    "    return np.mean(accuracy)"
   ]
  },
  {
   "cell_type": "code",
   "execution_count": null,
   "metadata": {
    "id": "FMr4oVXMdtTk"
   },
   "outputs": [],
   "source": [
    "from IPython.display import clear_output\n",
    "from tqdm.notebook import trange\n",
    "import matplotlib.pyplot as plt\n",
    "\n",
    "\n",
    "def get_lr(optimizer):\n",
    "    for param_group in optimizer.param_groups:\n",
    "        return param_group['lr']\n",
    "\n",
    "\n",
    "def learning_loop(model, optimizer, train_loader, val_loader, criterion, scheduler=None, min_lr=None,\n",
    "                  epochs=20, val_every=1, draw_every=1):\n",
    "    losses = {'train': [], 'val': []}\n",
    "    val_accuracy = []\n",
    "\n",
    "    for epoch in range(1, epochs+1):\n",
    "        print(f'#{epoch}/{epochs}:')\n",
    "        model, optimizer, loss = train(model, optimizer, train_loader, criterion)\n",
    "        losses['train'].append(loss)\n",
    "\n",
    "        if not (epoch % val_every):\n",
    "            loss = val(model, val_loader, criterion)\n",
    "            losses['val'].append(loss)\n",
    "            if scheduler:\n",
    "                scheduler.step(loss)\n",
    "            val_accuracy.append(eval_model(model, val_loader))\n",
    "\n",
    "        if not (epoch % draw_every):\n",
    "            clear_output(True)\n",
    "            fig, ax = plt.subplots(1, 2, figsize=(20, 10))\n",
    "            fig.suptitle(f'#{epoch}/{epochs}:')\n",
    "\n",
    "            plt.subplot(121)\n",
    "            plt.title('losses')\n",
    "            plt.plot(losses['train'], 'r.-', label='train')\n",
    "            plt.plot(losses['val'], 'g.-', label='val')\n",
    "            plt.legend()\n",
    "\n",
    "            plt.subplot(122)\n",
    "            plt.title('val accuracy')\n",
    "            plt.plot(val_accuracy, 'magenta', label='val_accuracy')\n",
    "            plt.legend()\n",
    "\n",
    "            plt.show()\n",
    "\n",
    "        if min_lr and get_lr(optimizer) <= min_lr:\n",
    "            print(f'Learning process ended with early stop after epoch {epoch}')\n",
    "            break\n",
    "\n",
    "    return model, optimizer, losses"
   ]
  },
  {
   "cell_type": "code",
   "execution_count": null,
   "metadata": {
    "colab": {
     "base_uri": "https://localhost:8080/",
     "height": 823
    },
    "id": "2t4QMMlRd3d0",
    "outputId": "63fb3645-4f8f-4812-8137-c6931557ebf4"
   },
   "outputs": [
    {
     "data": {
      "image/png": "[encoded data removed]",
      "text/plain": [
       "<Figure size 2000x1000 with 2 Axes>"
      ]
     },
     "metadata": {},
     "output_type": "display_data"
    }
   ],
   "source": [
    "model, opt, losses = learning_loop(\n",
    "    model = model,\n",
    "    optimizer = opt,\n",
    "    train_loader = train_batch_gen,\n",
    "    val_loader = val_batch_gen,\n",
    "    criterion = compute_loss,\n",
    "    scheduler = scheduler,\n",
    "    epochs = 20,\n",
    "    min_lr = 2e-6\n",
    ")"
   ]
  },
  {
   "cell_type": "markdown",
   "metadata": {},
   "source": [
    "Вроде сеть достаточно хороша по accuracy, чтобы быть моделью-учителем"
   ]
  },
  {
   "cell_type": "code",
   "execution_count": null,
   "metadata": {
    "colab": {
     "base_uri": "https://localhost:8080/",
     "height": 17
    },
    "id": "xyUkbneqsNlR",
    "outputId": "2bf8a2cb-1f3a-4b84-9ff0-34c909e7e049"
   },
   "outputs": [
    {
     "data": {
      "application/javascript": [
       "\n",
       "    async function download(id, filename, size) {\n",
       "      if (!google.colab.kernel.accessAllowed) {\n",
       "        return;\n",
       "      }\n",
       "      const div = document.createElement('div');\n",
       "      const label = document.createElement('label');\n",
       "      label.textContent = `Downloading \"${filename}\": `;\n",
       "      div.appendChild(label);\n",
       "      const progress = document.createElement('progress');\n",
       "      progress.max = size;\n",
       "      div.appendChild(progress);\n",
       "      document.body.appendChild(div);\n",
       "\n",
       "      const buffers = [];\n",
       "      let downloaded = 0;\n",
       "\n",
       "      const channel = await google.colab.kernel.comms.open(id);\n",
       "      // Send a message to notify the kernel that we're ready.\n",
       "      channel.send({})\n",
       "\n",
       "      for await (const message of channel.messages) {\n",
       "        // Send a message to notify the kernel that we're ready.\n",
       "        channel.send({})\n",
       "        if (message.buffers) {\n",
       "          for (const buffer of message.buffers) {\n",
       "            buffers.push(buffer);\n",
       "            downloaded += buffer.byteLength;\n",
       "            progress.value = downloaded;\n",
       "          }\n",
       "        }\n",
       "      }\n",
       "      const blob = new Blob(buffers, {type: 'application/binary'});\n",
       "      const a = document.createElement('a');\n",
       "      a.href = window.URL.createObjectURL(blob);\n",
       "      a.download = filename;\n",
       "      div.appendChild(a);\n",
       "      a.click();\n",
       "      div.remove();\n",
       "    }\n",
       "  "
      ],
      "text/plain": [
       "<IPython.core.display.Javascript object>"
      ]
     },
     "metadata": {},
     "output_type": "display_data"
    },
    {
     "data": {
      "application/javascript": [
       "download(\"download_e0c519fb-4a92-4a00-bbc5-13b66ce13287\", \"resnet\", 2936735)"
      ],
      "text/plain": [
       "<IPython.core.display.Javascript object>"
      ]
     },
     "metadata": {},
     "output_type": "display_data"
    }
   ],
   "source": [
    "# сохраним модель на всякий случай\n",
    "from google.colab import files\n",
    "\n",
    "torch.save(model.state_dict(), 'resnet')\n",
    "files.download('resnet')"
   ]
  },
  {
   "cell_type": "markdown",
   "metadata": {
    "id": "s8tMESN1bdX0"
   },
   "source": [
    "## 2. Student network\n",
    "Train small (student) network"
   ]
  },
  {
   "cell_type": "markdown",
   "metadata": {
    "id": "6w151U2MqqFW"
   },
   "source": [
    "Пусть будет MobileNet в качестве модели-студента (как раз там в статье основаня идея - у нас маленькая модель с небольшим количеством параметров и при этом неплохое качество)"
   ]
  },
  {
   "cell_type": "code",
   "execution_count": null,
   "metadata": {
    "id": "CtD9Jcf3bdX0"
   },
   "outputs": [],
   "source": [
    "import torch.nn as nn\n",
    "from torchsummary import summary\n",
    "\n",
    "def dwise_conv(ch_in, stride=1):\n",
    "    return (\n",
    "        nn.Sequential(\n",
    "            #depthwise\n",
    "            nn.Conv2d(ch_in, ch_in, kernel_size=3, padding=1, stride=stride, groups=ch_in, bias=False),\n",
    "            nn.BatchNorm2d(ch_in),\n",
    "            nn.ReLU6(inplace=True),\n",
    "        )\n",
    "    )\n",
    "\n",
    "def conv1x1(ch_in, ch_out):\n",
    "    return (\n",
    "        nn.Sequential(\n",
    "            nn.Conv2d(ch_in, ch_out, kernel_size=1, padding=0, stride=1, bias=False),\n",
    "            nn.BatchNorm2d(ch_out),\n",
    "            nn.ReLU6(inplace=True)\n",
    "        )\n",
    "    )\n",
    "\n",
    "def conv3x3(ch_in, ch_out, stride):\n",
    "    return (\n",
    "        nn.Sequential(\n",
    "            nn.Conv2d(ch_in, ch_out, kernel_size=3, padding=1, stride=stride, bias=False),\n",
    "            nn.BatchNorm2d(ch_out),\n",
    "            nn.ReLU6(inplace=True)\n",
    "        )\n",
    "    )\n",
    "\n",
    "class InvertedBlock(nn.Module):\n",
    "    def __init__(self, ch_in, ch_out, expand_ratio, stride):\n",
    "        super(InvertedBlock, self).__init__()\n",
    "\n",
    "        self.stride = stride\n",
    "        assert stride in [1, 2]\n",
    "\n",
    "        hidden_dim = ch_in * expand_ratio\n",
    "\n",
    "        self.use_res_connect = self.stride==1 and ch_in==ch_out\n",
    "\n",
    "        layers = []\n",
    "        if expand_ratio != 1:\n",
    "            layers.append(conv1x1(ch_in, hidden_dim))\n",
    "        layers.extend([\n",
    "            #dw\n",
    "            dwise_conv(hidden_dim, stride=stride),\n",
    "            #pw\n",
    "            conv1x1(hidden_dim, ch_out)\n",
    "        ])\n",
    "\n",
    "        self.layers = nn.Sequential(*layers)\n",
    "\n",
    "    def forward(self, x):\n",
    "        if self.use_res_connect:\n",
    "            return x + self.layers(x)\n",
    "        else:\n",
    "            return self.layers(x)\n",
    "\n",
    "class MobileNetV2(nn.Module):\n",
    "    def __init__(self, ch_in=3, n_classes=200):\n",
    "        super(MobileNetV2, self).__init__()\n",
    "\n",
    "        self.configs=[\n",
    "            # t, c, n, s\n",
    "            [1, 16, 1, 1],\n",
    "            [6, 24, 2, 2],\n",
    "            # [6, 32, 3, 2],\n",
    "            # [6, 64, 4, 2]\n",
    "            # [6, 96, 3, 1],\n",
    "            # [6, 160, 3, 2],\n",
    "            # [6, 320, 1, 1]\n",
    "        ]\n",
    "\n",
    "        self.stem_conv = conv3x3(ch_in, 32, stride=2)\n",
    "\n",
    "        layers = []\n",
    "        input_channel = 32\n",
    "        for t, c, n, s in self.configs:\n",
    "            for i in range(n):\n",
    "                stride = s if i == 0 else 1\n",
    "                layers.append(InvertedBlock(ch_in=input_channel, ch_out=c, expand_ratio=t, stride=stride))\n",
    "                input_channel = c\n",
    "\n",
    "        self.layers = nn.Sequential(*layers)\n",
    "\n",
    "        self.last_conv = conv1x1(input_channel, 64)\n",
    "\n",
    "        self.classifier = nn.Sequential(\n",
    "            nn.Dropout2d(0.2),\n",
    "            nn.Linear(64, n_classes)\n",
    "        )\n",
    "        self.avg_pool = nn.AdaptiveAvgPool2d(1)\n",
    "\n",
    "    def forward(self, x):\n",
    "        x = self.stem_conv(x)\n",
    "        x = self.layers(x)\n",
    "        x = self.last_conv(x)\n",
    "        x = self.avg_pool(x).view(-1, 64)\n",
    "        x = self.classifier(x)\n",
    "        return x"
   ]
  },
  {
   "cell_type": "code",
   "execution_count": null,
   "metadata": {
    "id": "U3CnaTLrmLX2"
   },
   "outputs": [],
   "source": [
    "student_model = MobileNetV2()\n",
    "student_model = student_model.to(device)\n",
    "student_opt = torch.optim.Adam(student_model.parameters(), lr = 0.001)\n",
    "student_cheduler = torch.optim.lr_scheduler.ReduceLROnPlateau(student_opt, mode='min', factor=0.25, patience=4, threshold=0.001, verbose=True)"
   ]
  },
  {
   "cell_type": "code",
   "execution_count": null,
   "metadata": {
    "colab": {
     "base_uri": "https://localhost:8080/"
    },
    "id": "pOPx0HsWnJNY",
    "outputId": "aff2c11d-af92-404e-db0d-e832486b3ebb"
   },
   "outputs": [
    {
     "name": "stdout",
     "output_type": "stream",
     "text": [
      "stem_conv.0.weight  ~  864     params\n",
      "stem_conv.1.weight  ~  32      params\n",
      "stem_conv.1.bias    ~  32      params\n",
      "layers.0.layers.0.0.weight ~  288     params\n",
      "layers.0.layers.0.1.weight ~  32      params\n",
      "layers.0.layers.0.1.bias ~  32      params\n",
      "layers.0.layers.1.0.weight ~  512     params\n",
      "layers.0.layers.1.1.weight ~  16      params\n",
      "layers.0.layers.1.1.bias ~  16      params\n",
      "layers.1.layers.0.0.weight ~  1536    params\n",
      "layers.1.layers.0.1.weight ~  96      params\n",
      "layers.1.layers.0.1.bias ~  96      params\n",
      "layers.1.layers.1.0.weight ~  864     params\n",
      "layers.1.layers.1.1.weight ~  96      params\n",
      "layers.1.layers.1.1.bias ~  96      params\n",
      "layers.1.layers.2.0.weight ~  2304    params\n",
      "layers.1.layers.2.1.weight ~  24      params\n",
      "layers.1.layers.2.1.bias ~  24      params\n",
      "layers.2.layers.0.0.weight ~  3456    params\n",
      "layers.2.layers.0.1.weight ~  144     params\n",
      "layers.2.layers.0.1.bias ~  144     params\n",
      "layers.2.layers.1.0.weight ~  1296    params\n",
      "layers.2.layers.1.1.weight ~  144     params\n",
      "layers.2.layers.1.1.bias ~  144     params\n",
      "layers.2.layers.2.0.weight ~  3456    params\n",
      "layers.2.layers.2.1.weight ~  24      params\n",
      "layers.2.layers.2.1.bias ~  24      params\n",
      "last_conv.0.weight  ~  1536    params\n",
      "last_conv.1.weight  ~  64      params\n",
      "last_conv.1.bias    ~  64      params\n",
      "classifier.1.weight ~  12800   params\n",
      "classifier.1.bias   ~  200     params\n",
      "\n",
      "In total: 30456 params\n"
     ]
    }
   ],
   "source": [
    "sum_params = model_num_params(student_model)"
   ]
  },
  {
   "cell_type": "markdown",
   "metadata": {
    "id": "BQKD92ewoFgY"
   },
   "source": [
    "Такая модель должна не так хорошо обучиться, так как параметров в разы меньше - 30к против 700к у резнета"
   ]
  },
  {
   "cell_type": "code",
   "execution_count": null,
   "metadata": {
    "colab": {
     "base_uri": "https://localhost:8080/",
     "height": 651
    },
    "id": "MtjoHZnsmdIz",
    "outputId": "0d3eae31-d7f4-4c36-e055-4a1e3b088003"
   },
   "outputs": [
    {
     "data": {
      "image/png": "[encoded data removed]",
      "text/plain": [
       "<Figure size 2000x1000 with 2 Axes>"
      ]
     },
     "metadata": {},
     "output_type": "display_data"
    }
   ],
   "source": [
    "student_model, student_opt, student_losses = learning_loop(\n",
    "    model = student_model,\n",
    "    optimizer = student_opt,\n",
    "    train_loader = train_batch_gen,\n",
    "    val_loader = val_batch_gen,\n",
    "    criterion = compute_loss,\n",
    "    scheduler = student_cheduler,\n",
    "    epochs = 20,\n",
    "    min_lr = 2e-6\n",
    ")"
   ]
  },
  {
   "cell_type": "code",
   "execution_count": null,
   "metadata": {
    "colab": {
     "base_uri": "https://localhost:8080/"
    },
    "id": "7IVgyZ-VoZp-",
    "outputId": "8f338873-fc00-4a75-c93f-6c288b9dbc0d"
   },
   "outputs": [
    {
     "data": {
      "text/plain": [
       "20"
      ]
     },
     "execution_count": 26,
     "metadata": {},
     "output_type": "execute_result"
    }
   ],
   "source": [
    "len(student_losses['val']) # 20 эпох обучилось, как и надо (а то график лаганул походу)"
   ]
  },
  {
   "cell_type": "code",
   "execution_count": null,
   "metadata": {
    "colab": {
     "base_uri": "https://localhost:8080/"
    },
    "id": "fAmT6mhAnuYK",
    "outputId": "d5bc2bae-a687-4c38-d4f8-04b0ea8e7e0e"
   },
   "outputs": [
    {
     "name": "stderr",
     "output_type": "stream",
     "text": [
      "/usr/local/lib/python3.10/dist-packages/torch/utils/data/dataloader.py:560: UserWarning: This DataLoader will create 12 worker processes in total. Our suggested max number of worker in current system is 2, which is smaller than what this DataLoader is going to create. Please be aware that excessive worker creation might get DataLoader running slow or even freeze, lower the worker number to avoid potential slowness/freeze if necessary.\n",
      "  warnings.warn(_create_warning_msg(\n",
      "/usr/local/lib/python3.10/dist-packages/torch/nn/functional.py:1331: UserWarning: dropout2d: Received a 2-D input to dropout2d, which is deprecated and will result in an error in a future release. To retain the behavior and silence this warning, please use dropout instead. Note that dropout2d exists to provide channel-wise dropout on inputs with 2 spatial dimensions, a channel dimension, and an optional batch dimension (i.e. 3D or 4D inputs).\n",
      "  warnings.warn(warn_msg)\n"
     ]
    },
    {
     "data": {
      "text/plain": [
       "0.24781050955414013"
      ]
     },
     "execution_count": 25,
     "metadata": {},
     "output_type": "execute_result"
    }
   ],
   "source": [
    "eval_model(student_model, val_batch_gen)"
   ]
  },
  {
   "cell_type": "markdown",
   "metadata": {
    "id": "tdb9aZWsn_R5"
   },
   "source": [
    "Как раз сгодится в качестве студенческой модели. Запомним это значение, потом будем его сравнивать с distilled model"
   ]
  },
  {
   "cell_type": "code",
   "execution_count": null,
   "metadata": {
    "id": "o_BVXWUZDDgI"
   },
   "outputs": [],
   "source": [
    "from google.colab import files\n",
    "\n",
    "torch.save(student_model.state_dict(), 'mobile_net')\n",
    "files.download('mobile_net')"
   ]
  },
  {
   "cell_type": "markdown",
   "metadata": {
    "id": "HwyaD97MbdX1"
   },
   "source": [
    "## 3. Knowledge distillation\n",
    "\n",
    "At this block we will retrain our student network using \"knowledge distillation\" technique.\n",
    "\n",
    "The training procedure is the same as for training the student network from scratch except the loss formulation.\n",
    "\n",
    "Assume that\n",
    "- $z_i$ are logits predicted by the student network at the current step for an input image\n",
    "- $v_i$ are logits predicted by the (freezed) teacher network\n",
    "- $y_i$ are one-hot encoded label of the input image\n",
    "- $p_i = \\frac{\\exp{z_i}}{\\sum_j \\exp{z_j}}$ - logits $z_i$ after sofrmax\n",
    "- $q_i = \\frac{\\exp{\\frac{z_i}{T}}}{\\sum_j \\exp{\\frac{z_j}{T}}}$, where $T$ is softmax temperature\n",
    "- $r_i = \\frac{\\exp{\\frac{v_i}{T}}}{\\sum_j \\exp{\\frac{v_j}{T}}}$, where $T$ is the same softmax temperature as for $q_i$\n",
    "\n",
    "The loss for knowledge distillation: $$-\\sum_i y_i \\log p_i - \\alpha \\sum_i r_i \\log q_i$$\n",
    "\n",
    "$T$ and $\\alpha$ are hyperparameters.\n",
    "\n",
    "- There is a good practice of using softmax with high temperature to obtain \"soft\" distributions, you can start with $T=10$. Check the [post](https://medium.com/mlearning-ai/softmax-temperature-5492e4007f71) with good visualizations on how the temperature affects the softmax output.\n",
    "- For $\\alpha$ there is the following note in the original [paper](https://arxiv.org/pdf/1503.02531.pdf):\n",
    "\n",
    "> Since the magnitudes of the gradients produced by the soft targets scale as $1/T^2$ it is important to multiply them by $T^2$ when using both hard and soft targets. This ensures that the relative contributions of the hard and soft targets remain roughly unchanged if the temperature used for distillation is changed while experimenting with meta-parameters."
   ]
  },
  {
   "cell_type": "markdown",
   "metadata": {},
   "source": [
    "Подгружаем нашу обученную модель-учителя"
   ]
  },
  {
   "cell_type": "code",
   "execution_count": null,
   "metadata": {
    "colab": {
     "base_uri": "https://localhost:8080/"
    },
    "id": "pPHZM6KHbdX1",
    "outputId": "db9b55df-15e0-400a-8ea0-1156f7de08a9"
   },
   "outputs": [
    {
     "data": {
      "text/plain": [
       "<All keys matched successfully>"
      ]
     },
     "execution_count": 19,
     "metadata": {},
     "output_type": "execute_result"
    }
   ],
   "source": [
    "teacher_model = create_resnet_like_network()\n",
    "teacher_model.load_state_dict(torch.load('resnet.file'))"
   ]
  },
  {
   "cell_type": "code",
   "execution_count": null,
   "metadata": {
    "colab": {
     "base_uri": "https://localhost:8080/"
    },
    "id": "HhWjr7loB1Kp",
    "outputId": "ed55a612-5c0e-450c-8517-f1db8532445d"
   },
   "outputs": [
    {
     "data": {
      "text/plain": [
       "Sequential(\n",
       "  (init_conv): ConvBNRelu(\n",
       "    (conv): Conv2d(3, 32, kernel_size=(7, 7), stride=(2, 2), padding=(3, 3))\n",
       "    (bn): BatchNorm2d(32, eps=1e-05, momentum=0.1, affine=True, track_running_stats=True)\n",
       "    (relu): ReLU()\n",
       "  )\n",
       "  (ResNetBlock0): ResNetBlock2(\n",
       "    (conv1): Conv2d(32, 32, kernel_size=(3, 3), stride=(1, 1), padding=same)\n",
       "    (bn1): BatchNorm2d(32, eps=1e-05, momentum=0.1, affine=True, track_running_stats=True)\n",
       "    (relu1): ReLU()\n",
       "    (conv2): Conv2d(32, 32, kernel_size=(3, 3), stride=(1, 1), padding=same)\n",
       "    (bn2): BatchNorm2d(32, eps=1e-05, momentum=0.1, affine=True, track_running_stats=True)\n",
       "    (relu2): ReLU()\n",
       "  )\n",
       "  (ResNetBlock1): ResNetBlock2(\n",
       "    (conv1): Conv2d(32, 32, kernel_size=(3, 3), stride=(1, 1), padding=same)\n",
       "    (bn1): BatchNorm2d(32, eps=1e-05, momentum=0.1, affine=True, track_running_stats=True)\n",
       "    (relu1): ReLU()\n",
       "    (conv2): Conv2d(32, 32, kernel_size=(3, 3), stride=(1, 1), padding=same)\n",
       "    (bn2): BatchNorm2d(32, eps=1e-05, momentum=0.1, affine=True, track_running_stats=True)\n",
       "    (relu2): ReLU()\n",
       "  )\n",
       "  (ResNetBlock2): ResNetBlock2(\n",
       "    (conv1): Conv2d(32, 64, kernel_size=(3, 3), stride=(1, 1), padding=same)\n",
       "    (bn1): BatchNorm2d(64, eps=1e-05, momentum=0.1, affine=True, track_running_stats=True)\n",
       "    (relu1): ReLU()\n",
       "    (conv2): Conv2d(64, 64, kernel_size=(3, 3), stride=(1, 1), padding=same)\n",
       "    (bn2): BatchNorm2d(64, eps=1e-05, momentum=0.1, affine=True, track_running_stats=True)\n",
       "    (relu2): ReLU()\n",
       "    (conv3): Conv2d(32, 64, kernel_size=(1, 1), stride=(1, 1))\n",
       "  )\n",
       "  (ResNetBlock3): ResNetBlock2(\n",
       "    (conv1): Conv2d(64, 64, kernel_size=(3, 3), stride=(1, 1), padding=same)\n",
       "    (bn1): BatchNorm2d(64, eps=1e-05, momentum=0.1, affine=True, track_running_stats=True)\n",
       "    (relu1): ReLU()\n",
       "    (conv2): Conv2d(64, 64, kernel_size=(3, 3), stride=(1, 1), padding=same)\n",
       "    (bn2): BatchNorm2d(64, eps=1e-05, momentum=0.1, affine=True, track_running_stats=True)\n",
       "    (relu2): ReLU()\n",
       "  )\n",
       "  (ResNetBlock4): ResNetBlock2(\n",
       "    (conv1): Conv2d(64, 128, kernel_size=(3, 3), stride=(1, 1), padding=same)\n",
       "    (bn1): BatchNorm2d(128, eps=1e-05, momentum=0.1, affine=True, track_running_stats=True)\n",
       "    (relu1): ReLU()\n",
       "    (conv2): Conv2d(128, 128, kernel_size=(3, 3), stride=(1, 1), padding=same)\n",
       "    (bn2): BatchNorm2d(128, eps=1e-05, momentum=0.1, affine=True, track_running_stats=True)\n",
       "    (relu2): ReLU()\n",
       "    (conv3): Conv2d(64, 128, kernel_size=(1, 1), stride=(1, 1))\n",
       "  )\n",
       "  (ResNetBlock5): ResNetBlock2(\n",
       "    (conv1): Conv2d(128, 128, kernel_size=(3, 3), stride=(1, 1), padding=same)\n",
       "    (bn1): BatchNorm2d(128, eps=1e-05, momentum=0.1, affine=True, track_running_stats=True)\n",
       "    (relu1): ReLU()\n",
       "    (conv2): Conv2d(128, 128, kernel_size=(3, 3), stride=(1, 1), padding=same)\n",
       "    (bn2): BatchNorm2d(128, eps=1e-05, momentum=0.1, affine=True, track_running_stats=True)\n",
       "    (relu2): ReLU()\n",
       "  )\n",
       "  (pool): GlobalAveragePool()\n",
       "  (logits): Linear(in_features=128, out_features=200, bias=True)\n",
       ")"
      ]
     },
     "execution_count": 20,
     "metadata": {},
     "output_type": "execute_result"
    }
   ],
   "source": [
    "teacher_model = teacher_model.to(device)\n",
    "teacher_model.eval()"
   ]
  },
  {
   "cell_type": "markdown",
   "metadata": {
    "id": "fuQVB0qtsVAI"
   },
   "source": [
    "Основная задача тут - правильно посчитать лосс, давайте его напишем (все по формулам выше)"
   ]
  },
  {
   "cell_type": "code",
   "execution_count": null,
   "metadata": {
    "id": "C375B86OsQRT"
   },
   "outputs": [],
   "source": [
    "def compute_loss_for_distill(predictions_student, gt, predictions_teacher, T, lambdaa):\n",
    "    student_loss = compute_loss(predictions_student, gt)\n",
    "\n",
    "    if T == 0: # делаем равномерное распределение\n",
    "      soft_preds_student = torch.tensor([[1. / predictions_student.shape[1]] * predictions_student.shape[1]] * predictions_student.shape[0]).to(device)\n",
    "      soft_preds_teacher = torch.tensor([[1. / predictions_teacher.shape[1]] * predictions_teacher.shape[1]] * predictions_teacher.shape[0]).to(device)\n",
    "    else:\n",
    "      soft_preds_student = torch.e ** (predictions_student / T) / (torch.e ** (predictions_student / T)).sum(-1).view(-1,1)\n",
    "      soft_preds_teacher = torch.e ** (predictions_teacher / T) / (torch.e ** (predictions_teacher / T)).sum(-1).view(-1,1)\n",
    "    distill_loss = -(soft_preds_teacher * torch.log(soft_preds_student)).sum(-1).mean()\n",
    "\n",
    "    return student_loss + distill_loss * lambdaa"
   ]
  },
  {
   "cell_type": "code",
   "execution_count": 29,
   "metadata": {
    "id": "-SiJuof3sQTa"
   },
   "outputs": [],
   "source": [
    "distill_model = MobileNetV2()\n",
    "distill_model = distill_model.to(device)\n",
    "distill_opt = torch.optim.Adam(distill_model.parameters(), lr = 0.001)\n",
    "distill_cheduler = torch.optim.lr_scheduler.ReduceLROnPlateau(distill_opt, mode='min', factor=0.25, patience=4, threshold=0.001, verbose=True)"
   ]
  },
  {
   "cell_type": "markdown",
   "metadata": {},
   "source": [
    "Проверяем, что лосс работает"
   ]
  },
  {
   "cell_type": "code",
   "execution_count": null,
   "metadata": {
    "colab": {
     "base_uri": "https://localhost:8080/",
     "height": 163,
     "referenced_widgets": [
      "ed453d2ef92c4ca69c8df1f595c27283",
      "c57007cefabf42fe800346c102cdc4ba",
      "fc1e6ed39ec34e7089293d9a990ae717",
      "ebfae94c07cf4ddab4a77dace6c80d86",
      "d45aef8ae54e437692439ff6f681cb69",
      "a9e51d087e544b36a8ba189f66dbb834",
      "42bef5f056b04fb69aaa9753698fbbc2",
      "028c27e7cd364d528ffd36c15bac1b2f",
      "8e8206ba83d04f55af4c6f07cc55b8ec",
      "44b3e9bc314c4e31861808568575fd44",
      "d22bb81db57940a0a64800785e75edd6"
     ]
    },
    "id": "eWNJaQ8NBTWB",
    "outputId": "652b6efa-f156-4594-9872-174228d6ca11"
   },
   "outputs": [
    {
     "data": {
      "application/vnd.jupyter.widget-view+json": {
       "model_id": "ed453d2ef92c4ca69c8df1f595c27283",
       "version_major": 2,
       "version_minor": 0
      },
      "text/plain": [
       "  0%|          | 0/1563 [00:00<?, ?it/s]"
      ]
     },
     "metadata": {},
     "output_type": "display_data"
    },
    {
     "name": "stderr",
     "output_type": "stream",
     "text": [
      "/usr/local/lib/python3.10/dist-packages/torch/utils/data/dataloader.py:560: UserWarning: This DataLoader will create 12 worker processes in total. Our suggested max number of worker in current system is 2, which is smaller than what this DataLoader is going to create. Please be aware that excessive worker creation might get DataLoader running slow or even freeze, lower the worker number to avoid potential slowness/freeze if necessary.\n",
      "  warnings.warn(_create_warning_msg(\n",
      "/usr/local/lib/python3.10/dist-packages/torch/nn/functional.py:1331: UserWarning: dropout2d: Received a 2-D input to dropout2d, which is deprecated and will result in an error in a future release. To retain the behavior and silence this warning, please use dropout instead. Note that dropout2d exists to provide channel-wise dropout on inputs with 2 spatial dimensions, a channel dimension, and an optional batch dimension (i.e. 3D or 4D inputs).\n",
      "  warnings.warn(warn_msg)\n"
     ]
    },
    {
     "name": "stdout",
     "output_type": "stream",
     "text": [
      "tensor(31.8686, device='cuda:0', grad_fn=<AddBackward0>)\n"
     ]
    }
   ],
   "source": [
    "for images, targets in tqdm(train_batch_gen):\n",
    "    images = images.to(device)\n",
    "    targets = targets.to(device)\n",
    "\n",
    "    out = distill_model(images)\n",
    "    preds_teacher = teacher_model(images)\n",
    "    print(compute_loss_for_distill(out, targets, preds_teacher, 5, 5))\n",
    "    break"
   ]
  },
  {
   "cell_type": "markdown",
   "metadata": {},
   "source": [
    "Тут чуть-чуть нужно поменять циклы обучения, так как еще добавляется Forward pass через учительскую модель"
   ]
  },
  {
   "cell_type": "code",
   "execution_count": null,
   "metadata": {
    "id": "NyFznHhbAUR-"
   },
   "outputs": [],
   "source": [
    "import torch.nn.functional as F\n",
    "from tqdm.notebook import tqdm\n",
    "\n",
    "def train(model, teacher_model, T, lambdaa, optimizer, loader, criterion):\n",
    "    model.train()\n",
    "    losses_tr = []\n",
    "    for images, targets in tqdm(loader):\n",
    "        images = images.to(device)\n",
    "        targets = targets.to(device)\n",
    "\n",
    "        optimizer.zero_grad()\n",
    "        out = model(images)\n",
    "        preds_teacher = teacher_model(images)\n",
    "        loss = criterion(out, targets, preds_teacher, T, lambdaa)\n",
    "\n",
    "        loss.backward()\n",
    "        optimizer.step()\n",
    "        losses_tr.append(loss.item())\n",
    "\n",
    "    return model, optimizer, np.mean(losses_tr)\n",
    "\n",
    "def val(model, teacher_model, T, lambdaa, loader, criterion):\n",
    "    model.eval()\n",
    "    losses_val = []\n",
    "    with torch.no_grad():\n",
    "        for images, targets in tqdm(loader):\n",
    "            images = images.to(device)\n",
    "            targets = targets.to(device)\n",
    "            out = model(images)\n",
    "            preds_teacher = teacher_model(images)\n",
    "            loss = criterion(out, targets, preds_teacher, T, lambdaa)\n",
    "\n",
    "            losses_val.append(loss.item())\n",
    "\n",
    "    return np.mean(losses_val)"
   ]
  },
  {
   "cell_type": "code",
   "execution_count": null,
   "metadata": {
    "id": "9EwcLMFFAUUJ"
   },
   "outputs": [],
   "source": [
    "from IPython.display import clear_output\n",
    "from tqdm.notebook import trange\n",
    "import matplotlib.pyplot as plt\n",
    "\n",
    "\n",
    "def get_lr(optimizer):\n",
    "    for param_group in optimizer.param_groups:\n",
    "        return param_group['lr']\n",
    "\n",
    "\n",
    "def learning_loop(model, teacher_model, optimizer, train_loader, val_loader, criterion, T, lambdaa, scheduler=None, min_lr=None,\n",
    "                  epochs=20, val_every=1, draw_every=1):\n",
    "    losses = {'train': [], 'val': []}\n",
    "    val_accuracy = []\n",
    "\n",
    "    for epoch in range(1, epochs+1):\n",
    "        print(f'#{epoch}/{epochs}:')\n",
    "        model, optimizer, loss = train(model, teacher_model, T, lambdaa, optimizer, train_loader, criterion)\n",
    "        losses['train'].append(loss)\n",
    "\n",
    "        if not (epoch % val_every):\n",
    "            loss = val(model, teacher_model, T, lambdaa, val_loader, criterion)\n",
    "            losses['val'].append(loss)\n",
    "            if scheduler:\n",
    "                scheduler.step(loss)\n",
    "            val_accuracy.append(eval_model(model, val_loader))\n",
    "\n",
    "        if not (epoch % draw_every):\n",
    "            clear_output(True)\n",
    "            fig, ax = plt.subplots(1, 2, figsize=(20, 10))\n",
    "            fig.suptitle(f'#{epoch}/{epochs}:')\n",
    "\n",
    "            plt.subplot(121)\n",
    "            plt.title('losses')\n",
    "            plt.plot(losses['train'], 'r.-', label='train')\n",
    "            plt.plot(losses['val'], 'g.-', label='val')\n",
    "            plt.legend()\n",
    "\n",
    "            plt.subplot(122)\n",
    "            plt.title('val accuracy')\n",
    "            plt.plot(val_accuracy, 'magenta', label='val_accuracy')\n",
    "            plt.legend()\n",
    "\n",
    "            plt.show()\n",
    "\n",
    "        if min_lr and get_lr(optimizer) <= min_lr:\n",
    "            print(f'Learning process ended with early stop after epoch {epoch}')\n",
    "            break\n",
    "\n",
    "    return model, optimizer, losses"
   ]
  },
  {
   "cell_type": "markdown",
   "metadata": {
    "id": "bgWnKBYhF5LT"
   },
   "source": [
    "For the distillation we\n",
    "tried temperatures of [1, 2, 5, 10] and used a relative weight of 0.5 on the cross-entropy for the hard\n",
    "targets - так написано в статье, то есть distillation loss у них был в два раза важнее, так что попробуем с lambda = 2"
   ]
  },
  {
   "cell_type": "code",
   "execution_count": 45,
   "metadata": {
    "colab": {
     "base_uri": "https://localhost:8080/",
     "height": 793
    },
    "id": "uOpxH35LsYN4",
    "outputId": "a5ac0919-07f8-4cda-cd2a-ab32d2d91fae"
   },
   "outputs": [
    {
     "data": {
      "image/png": "[encoded data removed]",
      "text/plain": [
       "<Figure size 2000x1000 with 2 Axes>"
      ]
     },
     "metadata": {},
     "output_type": "display_data"
    }
   ],
   "source": [
    "distill_model, distill_opt, distill_losses = learning_loop(\n",
    "    model = distill_model,\n",
    "    teacher_model = teacher_model,\n",
    "    T = 10,\n",
    "    lambdaa = 2,\n",
    "    optimizer = distill_opt,\n",
    "    train_loader = train_batch_gen,\n",
    "    val_loader = val_batch_gen,\n",
    "    criterion = compute_loss_for_distill,\n",
    "    scheduler = distill_cheduler,\n",
    "    epochs = 20,\n",
    "    min_lr = 2e-6\n",
    ")"
   ]
  },
  {
   "cell_type": "code",
   "execution_count": 46,
   "metadata": {
    "colab": {
     "base_uri": "https://localhost:8080/",
     "height": 17
    },
    "id": "8KlgvjMZTfNK",
    "outputId": "d05a0c6f-e14b-4e40-d7aa-4e3c99ecdc20"
   },
   "outputs": [
    {
     "data": {
      "application/javascript": [
       "\n",
       "    async function download(id, filename, size) {\n",
       "      if (!google.colab.kernel.accessAllowed) {\n",
       "        return;\n",
       "      }\n",
       "      const div = document.createElement('div');\n",
       "      const label = document.createElement('label');\n",
       "      label.textContent = `Downloading \"${filename}\": `;\n",
       "      div.appendChild(label);\n",
       "      const progress = document.createElement('progress');\n",
       "      progress.max = size;\n",
       "      div.appendChild(progress);\n",
       "      document.body.appendChild(div);\n",
       "\n",
       "      const buffers = [];\n",
       "      let downloaded = 0;\n",
       "\n",
       "      const channel = await google.colab.kernel.comms.open(id);\n",
       "      // Send a message to notify the kernel that we're ready.\n",
       "      channel.send({})\n",
       "\n",
       "      for await (const message of channel.messages) {\n",
       "        // Send a message to notify the kernel that we're ready.\n",
       "        channel.send({})\n",
       "        if (message.buffers) {\n",
       "          for (const buffer of message.buffers) {\n",
       "            buffers.push(buffer);\n",
       "            downloaded += buffer.byteLength;\n",
       "            progress.value = downloaded;\n",
       "          }\n",
       "        }\n",
       "      }\n",
       "      const blob = new Blob(buffers, {type: 'application/binary'});\n",
       "      const a = document.createElement('a');\n",
       "      a.href = window.URL.createObjectURL(blob);\n",
       "      a.download = filename;\n",
       "      div.appendChild(a);\n",
       "      a.click();\n",
       "      div.remove();\n",
       "    }\n",
       "  "
      ],
      "text/plain": [
       "<IPython.core.display.Javascript object>"
      ]
     },
     "metadata": {},
     "output_type": "display_data"
    },
    {
     "data": {
      "application/javascript": [
       "download(\"download_6941d5f2-25cc-4bb8-9911-6fc667459e86\", \"distill_model\", 148459)"
      ],
      "text/plain": [
       "<IPython.core.display.Javascript object>"
      ]
     },
     "metadata": {},
     "output_type": "display_data"
    }
   ],
   "source": [
    "from google.colab import files\n",
    "\n",
    "torch.save(distill_model.state_dict(), 'distill_model')\n",
    "files.download('distill_model')"
   ]
  },
  {
   "cell_type": "code",
   "execution_count": 47,
   "metadata": {
    "colab": {
     "base_uri": "https://localhost:8080/"
    },
    "id": "eiMMUufaozFk",
    "outputId": "fb3a3876-94b5-4268-9d57-1d75604ee203"
   },
   "outputs": [
    {
     "name": "stderr",
     "output_type": "stream",
     "text": [
      "/usr/local/lib/python3.10/dist-packages/torch/utils/data/dataloader.py:560: UserWarning: This DataLoader will create 12 worker processes in total. Our suggested max number of worker in current system is 2, which is smaller than what this DataLoader is going to create. Please be aware that excessive worker creation might get DataLoader running slow or even freeze, lower the worker number to avoid potential slowness/freeze if necessary.\n",
      "  warnings.warn(_create_warning_msg(\n",
      "/usr/local/lib/python3.10/dist-packages/torch/nn/functional.py:1331: UserWarning: dropout2d: Received a 2-D input to dropout2d, which is deprecated and will result in an error in a future release. To retain the behavior and silence this warning, please use dropout instead. Note that dropout2d exists to provide channel-wise dropout on inputs with 2 spatial dimensions, a channel dimension, and an optional batch dimension (i.e. 3D or 4D inputs).\n",
      "  warnings.warn(warn_msg)\n"
     ]
    },
    {
     "data": {
      "text/plain": [
       "0.25925557324840764"
      ]
     },
     "execution_count": 47,
     "metadata": {},
     "output_type": "execute_result"
    }
   ],
   "source": [
    "eval_model(distill_model, val_batch_gen)"
   ]
  },
  {
   "cell_type": "markdown",
   "metadata": {
    "id": "Ij_3ALXmwQk3"
   },
   "source": [
    "Accuracy и правда подросла (была где-то 0.248), значит, наша дистилляция сработала!"
   ]
  }
 ],
 "metadata": {
  "accelerator": "GPU",
  "colab": {
   "provenance": []
  },
  "kernelspec": {
   "display_name": "Python 3 (ipykernel)",
   "language": "python",
   "name": "python3"
  },
  "language_info": {
   "codemirror_mode": {
    "name": "ipython",
    "version": 3
   },
   "file_extension": ".py",
   "mimetype": "text/x-python",
   "name": "python",
   "nbconvert_exporter": "python",
   "pygments_lexer": "ipython3",
   "version": "3.9.7"
  },
  "widgets": {
   "application/vnd.jupyter.widget-state+json": {
    "028c27e7cd364d528ffd36c15bac1b2f": {
     "model_module": "@jupyter-widgets/base",
     "model_module_version": "1.2.0",
     "model_name": "LayoutModel",
     "state": {
      "_model_module": "@jupyter-widgets/base",
      "_model_module_version": "1.2.0",
      "_model_name": "LayoutModel",
      "_view_count": null,
      "_view_module": "@jupyter-widgets/base",
      "_view_module_version": "1.2.0",
      "_view_name": "LayoutView",
      "align_content": null,
      "align_items": null,
      "align_self": null,
      "border": null,
      "bottom": null,
      "display": null,
      "flex": null,
      "flex_flow": null,
      "grid_area": null,
      "grid_auto_columns": null,
      "grid_auto_flow": null,
      "grid_auto_rows": null,
      "grid_column": null,
      "grid_gap": null,
      "grid_row": null,
      "grid_template_areas": null,
      "grid_template_columns": null,
      "grid_template_rows": null,
      "height": null,
      "justify_content": null,
      "justify_items": null,
      "left": null,
      "margin": null,
      "max_height": null,
      "max_width": null,
      "min_height": null,
      "min_width": null,
      "object_fit": null,
      "object_position": null,
      "order": null,
      "overflow": null,
      "overflow_x": null,
      "overflow_y": null,
      "padding": null,
      "right": null,
      "top": null,
      "visibility": null,
      "width": null
     }
    },
    "42bef5f056b04fb69aaa9753698fbbc2": {
     "model_module": "@jupyter-widgets/controls",
     "model_module_version": "1.5.0",
     "model_name": "DescriptionStyleModel",
     "state": {
      "_model_module": "@jupyter-widgets/controls",
      "_model_module_version": "1.5.0",
      "_model_name": "DescriptionStyleModel",
      "_view_count": null,
      "_view_module": "@jupyter-widgets/base",
      "_view_module_version": "1.2.0",
      "_view_name": "StyleView",
      "description_width": ""
     }
    },
    "44b3e9bc314c4e31861808568575fd44": {
     "model_module": "@jupyter-widgets/base",
     "model_module_version": "1.2.0",
     "model_name": "LayoutModel",
     "state": {
      "_model_module": "@jupyter-widgets/base",
      "_model_module_version": "1.2.0",
      "_model_name": "LayoutModel",
      "_view_count": null,
      "_view_module": "@jupyter-widgets/base",
      "_view_module_version": "1.2.0",
      "_view_name": "LayoutView",
      "align_content": null,
      "align_items": null,
      "align_self": null,
      "border": null,
      "bottom": null,
      "display": null,
      "flex": null,
      "flex_flow": null,
      "grid_area": null,
      "grid_auto_columns": null,
      "grid_auto_flow": null,
      "grid_auto_rows": null,
      "grid_column": null,
      "grid_gap": null,
      "grid_row": null,
      "grid_template_areas": null,
      "grid_template_columns": null,
      "grid_template_rows": null,
      "height": null,
      "justify_content": null,
      "justify_items": null,
      "left": null,
      "margin": null,
      "max_height": null,
      "max_width": null,
      "min_height": null,
      "min_width": null,
      "object_fit": null,
      "object_position": null,
      "order": null,
      "overflow": null,
      "overflow_x": null,
      "overflow_y": null,
      "padding": null,
      "right": null,
      "top": null,
      "visibility": null,
      "width": null
     }
    },
    "8e8206ba83d04f55af4c6f07cc55b8ec": {
     "model_module": "@jupyter-widgets/controls",
     "model_module_version": "1.5.0",
     "model_name": "ProgressStyleModel",
     "state": {
      "_model_module": "@jupyter-widgets/controls",
      "_model_module_version": "1.5.0",
      "_model_name": "ProgressStyleModel",
      "_view_count": null,
      "_view_module": "@jupyter-widgets/base",
      "_view_module_version": "1.2.0",
      "_view_name": "StyleView",
      "bar_color": null,
      "description_width": ""
     }
    },
    "a9e51d087e544b36a8ba189f66dbb834": {
     "model_module": "@jupyter-widgets/base",
     "model_module_version": "1.2.0",
     "model_name": "LayoutModel",
     "state": {
      "_model_module": "@jupyter-widgets/base",
      "_model_module_version": "1.2.0",
      "_model_name": "LayoutModel",
      "_view_count": null,
      "_view_module": "@jupyter-widgets/base",
      "_view_module_version": "1.2.0",
      "_view_name": "LayoutView",
      "align_content": null,
      "align_items": null,
      "align_self": null,
      "border": null,
      "bottom": null,
      "display": null,
      "flex": null,
      "flex_flow": null,
      "grid_area": null,
      "grid_auto_columns": null,
      "grid_auto_flow": null,
      "grid_auto_rows": null,
      "grid_column": null,
      "grid_gap": null,
      "grid_row": null,
      "grid_template_areas": null,
      "grid_template_columns": null,
      "grid_template_rows": null,
      "height": null,
      "justify_content": null,
      "justify_items": null,
      "left": null,
      "margin": null,
      "max_height": null,
      "max_width": null,
      "min_height": null,
      "min_width": null,
      "object_fit": null,
      "object_position": null,
      "order": null,
      "overflow": null,
      "overflow_x": null,
      "overflow_y": null,
      "padding": null,
      "right": null,
      "top": null,
      "visibility": null,
      "width": null
     }
    },
    "c57007cefabf42fe800346c102cdc4ba": {
     "model_module": "@jupyter-widgets/controls",
     "model_module_version": "1.5.0",
     "model_name": "HTMLModel",
     "state": {
      "_dom_classes": [],
      "_model_module": "@jupyter-widgets/controls",
      "_model_module_version": "1.5.0",
      "_model_name": "HTMLModel",
      "_view_count": null,
      "_view_module": "@jupyter-widgets/controls",
      "_view_module_version": "1.5.0",
      "_view_name": "HTMLView",
      "description": "",
      "description_tooltip": null,
      "layout": "IPY_MODEL_a9e51d087e544b36a8ba189f66dbb834",
      "placeholder": "​",
      "style": "IPY_MODEL_42bef5f056b04fb69aaa9753698fbbc2",
      "value": "  0%"
     }
    },
    "d22bb81db57940a0a64800785e75edd6": {
     "model_module": "@jupyter-widgets/controls",
     "model_module_version": "1.5.0",
     "model_name": "DescriptionStyleModel",
     "state": {
      "_model_module": "@jupyter-widgets/controls",
      "_model_module_version": "1.5.0",
      "_model_name": "DescriptionStyleModel",
      "_view_count": null,
      "_view_module": "@jupyter-widgets/base",
      "_view_module_version": "1.2.0",
      "_view_name": "StyleView",
      "description_width": ""
     }
    },
    "d45aef8ae54e437692439ff6f681cb69": {
     "model_module": "@jupyter-widgets/base",
     "model_module_version": "1.2.0",
     "model_name": "LayoutModel",
     "state": {
      "_model_module": "@jupyter-widgets/base",
      "_model_module_version": "1.2.0",
      "_model_name": "LayoutModel",
      "_view_count": null,
      "_view_module": "@jupyter-widgets/base",
      "_view_module_version": "1.2.0",
      "_view_name": "LayoutView",
      "align_content": null,
      "align_items": null,
      "align_self": null,
      "border": null,
      "bottom": null,
      "display": null,
      "flex": null,
      "flex_flow": null,
      "grid_area": null,
      "grid_auto_columns": null,
      "grid_auto_flow": null,
      "grid_auto_rows": null,
      "grid_column": null,
      "grid_gap": null,
      "grid_row": null,
      "grid_template_areas": null,
      "grid_template_columns": null,
      "grid_template_rows": null,
      "height": null,
      "justify_content": null,
      "justify_items": null,
      "left": null,
      "margin": null,
      "max_height": null,
      "max_width": null,
      "min_height": null,
      "min_width": null,
      "object_fit": null,
      "object_position": null,
      "order": null,
      "overflow": null,
      "overflow_x": null,
      "overflow_y": null,
      "padding": null,
      "right": null,
      "top": null,
      "visibility": null,
      "width": null
     }
    },
    "ebfae94c07cf4ddab4a77dace6c80d86": {
     "model_module": "@jupyter-widgets/controls",
     "model_module_version": "1.5.0",
     "model_name": "HTMLModel",
     "state": {
      "_dom_classes": [],
      "_model_module": "@jupyter-widgets/controls",
      "_model_module_version": "1.5.0",
      "_model_name": "HTMLModel",
      "_view_count": null,
      "_view_module": "@jupyter-widgets/controls",
      "_view_module_version": "1.5.0",
      "_view_name": "HTMLView",
      "description": "",
      "description_tooltip": null,
      "layout": "IPY_MODEL_44b3e9bc314c4e31861808568575fd44",
      "placeholder": "​",
      "style": "IPY_MODEL_d22bb81db57940a0a64800785e75edd6",
      "value": " 0/1563 [00:11&lt;?, ?it/s]"
     }
    },
    "ed453d2ef92c4ca69c8df1f595c27283": {
     "model_module": "@jupyter-widgets/controls",
     "model_module_version": "1.5.0",
     "model_name": "HBoxModel",
     "state": {
      "_dom_classes": [],
      "_model_module": "@jupyter-widgets/controls",
      "_model_module_version": "1.5.0",
      "_model_name": "HBoxModel",
      "_view_count": null,
      "_view_module": "@jupyter-widgets/controls",
      "_view_module_version": "1.5.0",
      "_view_name": "HBoxView",
      "box_style": "",
      "children": [
       "IPY_MODEL_c57007cefabf42fe800346c102cdc4ba",
       "IPY_MODEL_fc1e6ed39ec34e7089293d9a990ae717",
       "IPY_MODEL_ebfae94c07cf4ddab4a77dace6c80d86"
      ],
      "layout": "IPY_MODEL_d45aef8ae54e437692439ff6f681cb69"
     }
    },
    "fc1e6ed39ec34e7089293d9a990ae717": {
     "model_module": "@jupyter-widgets/controls",
     "model_module_version": "1.5.0",
     "model_name": "FloatProgressModel",
     "state": {
      "_dom_classes": [],
      "_model_module": "@jupyter-widgets/controls",
      "_model_module_version": "1.5.0",
      "_model_name": "FloatProgressModel",
      "_view_count": null,
      "_view_module": "@jupyter-widgets/controls",
      "_view_module_version": "1.5.0",
      "_view_name": "ProgressView",
      "bar_style": "danger",
      "description": "",
      "description_tooltip": null,
      "layout": "IPY_MODEL_028c27e7cd364d528ffd36c15bac1b2f",
      "max": 1563,
      "min": 0,
      "orientation": "horizontal",
      "style": "IPY_MODEL_8e8206ba83d04f55af4c6f07cc55b8ec",
      "value": 0
     }
    }
   }
  }
 },
 "nbformat": 4,
 "nbformat_minor": 1
}
